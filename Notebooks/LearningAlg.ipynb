{
 "cells": [
  {
   "cell_type": "code",
   "execution_count": 5,
   "metadata": {},
   "outputs": [],
   "source": [
    "from sklearn.neighbors import KNeighborsClassifier\n",
    "from sklearn.metrics import confusion_matrix\n",
    "from sklearn.neighbors import KNeighborsClassifier\n",
    "from sklearn.metrics import confusion_matrix\n",
    "from sklearn.metrics import classification_report\n",
    "import matplotlib.pyplot as plt\n",
    "import plotly.figure_factory as ff\n",
    "from sklearn.model_selection import train_test_split\n",
    "import seaborn as sns\n",
    "import numpy as np"
   ]
  },
  {
   "cell_type": "code",
   "execution_count": 17,
   "metadata": {},
   "outputs": [],
   "source": [
    "def KNNclassifier(X,Y):\n",
    "    error = []\n",
    "    n = [1,3,5,7,9,11,13,15,17,19,21]\n",
    "    for neigh in n:\n",
    "        KNC = KNeighborsClassifier(n_neighbors=neigh)\n",
    "        X_train, X_test, y_train, y_test = train_test_split(X, Y, test_size=0.3, random_state=42)\n",
    "        KNC.fit(X_train, y_train)\n",
    "        y_prediction = KNC.predict(X_test)\n",
    "        error.append(np.mean(y_prediction != y_test))\n",
    "        confusionMatrix = confusion_matrix(y_test, y_prediction)\n",
    "        ax = sns.heatmap(confusionMatrix,annot=True,fmt=\"d\")\n",
    "        plt.show()\n",
    "        classificationReport = classification_report(y_test, y_prediction)\n",
    "        print(classificationReport)\n",
    "    plt.figure(figsize=(12, 6))\n",
    "    plt.plot(n, error, color='red', linestyle='dashed', marker='o',\n",
    "             markerfacecolor='blue', markersize=10)\n",
    "    plt.title('Error Rate K Value')\n",
    "    plt.xlabel('K Value')\n",
    "    plt.ylabel('Mean Error')"
   ]
  },
  {
   "cell_type": "code",
   "execution_count": 13,
   "metadata": {},
   "outputs": [],
   "source": [
    "from sklearn.tree import DecisionTreeClassifier\n",
    "from sklearn import metrics "
   ]
  },
  {
   "cell_type": "code",
   "execution_count": 14,
   "metadata": {},
   "outputs": [],
   "source": [
    "def decisionTrees(X,Y):\n",
    "    X_train, X_test, y_train, y_test = train_test_split(X, Y, test_size=0.3, random_state=42)\n",
    "    # Create Decision Tree classifer object\n",
    "    clf = DecisionTreeClassifier()\n",
    "    # Train Decision Tree Classifer\n",
    "    clf = clf.fit(X_train,y_train)\n",
    "    #Predict the response for test dataset\n",
    "    y_pred = clf.predict(X_test)\n",
    "    print(\"Accuracy:\",metrics.accuracy_score(y_test, y_pred))    \n",
    "    m = metrics.confusion_matrix(y_pred=y_pred, y_true = y_test)\n",
    "    ax = sns.heatmap(m,annot=True,fmt=\"d\")"
   ]
  },
  {
   "cell_type": "code",
   "execution_count": 4,
   "metadata": {},
   "outputs": [],
   "source": [
    "from sklearn.svm import SVC\n",
    "from sklearn.model_selection import GridSearchCV\n",
    "def SVMalg(X,Y):\n",
    "    svclassifier = SVC()\n",
    "    X_train, X_test, y_train, y_test = train_test_split(X, Y, test_size=0.3, random_state=4)\n",
    "    svclassifier.fit(X_train, y_train)\n",
    "    y_prediction = svclassifier.predict(X_test)\n",
    "    confusionMatrix = confusion_matrix(y_test, y_prediction)\n",
    "    ax = sns.heatmap(confusionMatrix,annot=True,fmt=\"d\")\n",
    "    plt.show()\n",
    "    classificationReport = classification_report(y_test, y_prediction)\n",
    "    print(classificationReport)\n",
    "    parameters = [{'C': [1, 10, 100], 'kernel': ['rbf']},\n",
    "              {'C': [1, 10, 100], 'kernel': ['rbf'], 'gamma': [0.1, 0.2, 0.3, 0.4, 0.5]}]\n",
    "    grid_search = GridSearchCV(estimator = svclassifier,\n",
    "                           param_grid = parameters,\n",
    "                           scoring = 'accuracy',\n",
    "                           cv = 10,\n",
    "                           n_jobs = -1)\n",
    "    \n",
    "    grid_search = grid_search.fit(X_train, y_train)\n",
    "    print(grid_search.best_param_)\n",
    "    print(grid_search.best_score_)\n",
    "    #y_prediction = svclassifier.predict(X_test)\n",
    "    #confusionMatrix = confusion_matrix(y_test, y_prediction)\n",
    "    #ax = sns.heatmap(confusionMatrix,annot=True,fmt=\"d\")\n",
    "    #plt.show()\n",
    "    #classificationReport = classification_report(y_test, y_prediction)\n",
    "    #print(classificationReport)"
   ]
  },
  {
   "cell_type": "markdown",
   "metadata": {},
   "source": [
    "### MLP Classifier"
   ]
  },
  {
   "cell_type": "code",
   "execution_count": 6,
   "metadata": {},
   "outputs": [],
   "source": [
    "from sklearn.metrics import confusion_matrix\n",
    "from sklearn.neural_network import MLPClassifier\n",
    "\n",
    "def MLPclass(X,Y):\n",
    "    X_train, X_test, y_train, y_test = train_test_split(X, Y, test_size=0.3, random_state=4)\n",
    "    classifier = MLPClassifier(hidden_layer_sizes=(150,100,50),\n",
    "                               max_iter=500,activation = 'relu',solver='adam',random_state=1)\n",
    "    classifier.fit(X_train, y_train)\n",
    "    y_pred = classifier.predict(X_test)\n",
    "    cm = confusion_matrix(y_pred, y_test)\n",
    "    classificationReport = classification_report(y_test, y_pred)\n",
    "    ax = sns.heatmap(cm,annot=True,fmt=\"d\")\n",
    "    plt.show()\n",
    "    print(classificationReport)"
   ]
  },
  {
   "cell_type": "code",
   "execution_count": null,
   "metadata": {},
   "outputs": [],
   "source": []
  }
 ],
 "metadata": {
  "kernelspec": {
   "display_name": "Python 3",
   "language": "python",
   "name": "python3"
  },
  "language_info": {
   "codemirror_mode": {
    "name": "ipython",
    "version": 3
   },
   "file_extension": ".py",
   "mimetype": "text/x-python",
   "name": "python",
   "nbconvert_exporter": "python",
   "pygments_lexer": "ipython3",
   "version": "3.8.3"
  }
 },
 "nbformat": 4,
 "nbformat_minor": 4
}
